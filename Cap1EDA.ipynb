{
 "cells": [
  {
   "cell_type": "code",
   "execution_count": 1,
   "metadata": {},
   "outputs": [],
   "source": [
    "\n",
    "\n",
    "import matplotlib.pyplot as plt\n",
    "import pandas as pd\n",
    "import numpy as np\n",
    "%matplotlib inline\n",
    "%config InlineBackend.figure_format = 'retina'\n",
    "plt.style.use('ggplot')"
   ]
  },
  {
   "cell_type": "code",
   "execution_count": 2,
   "metadata": {},
   "outputs": [],
   "source": [
    "pd.options.display.max_rows = 200000"
   ]
  },
  {
   "cell_type": "code",
   "execution_count": 3,
   "metadata": {},
   "outputs": [],
   "source": [
    "df = pd.read_csv('drugsCom_raw/drugsComTrain_raw.tsv', sep='\\t')\n",
    "df2 = pd.read_csv('drugsCom_raw/drugsComTest_raw.tsv', sep='\\t')"
   ]
  },
  {
   "cell_type": "code",
   "execution_count": 4,
   "metadata": {},
   "outputs": [
    {
     "data": {
      "text/html": [
       "<div>\n",
       "<style scoped>\n",
       "    .dataframe tbody tr th:only-of-type {\n",
       "        vertical-align: middle;\n",
       "    }\n",
       "\n",
       "    .dataframe tbody tr th {\n",
       "        vertical-align: top;\n",
       "    }\n",
       "\n",
       "    .dataframe thead th {\n",
       "        text-align: right;\n",
       "    }\n",
       "</style>\n",
       "<table border=\"1\" class=\"dataframe\">\n",
       "  <thead>\n",
       "    <tr style=\"text-align: right;\">\n",
       "      <th></th>\n",
       "      <th>Unnamed: 0</th>\n",
       "      <th>drugName</th>\n",
       "      <th>condition</th>\n",
       "      <th>review</th>\n",
       "      <th>rating</th>\n",
       "      <th>date</th>\n",
       "      <th>usefulCount</th>\n",
       "    </tr>\n",
       "  </thead>\n",
       "  <tbody>\n",
       "    <tr>\n",
       "      <th>0</th>\n",
       "      <td>206461</td>\n",
       "      <td>Valsartan</td>\n",
       "      <td>Left Ventricular Dysfunction</td>\n",
       "      <td>\"It has no side effect, I take it in combinati...</td>\n",
       "      <td>9.0</td>\n",
       "      <td>May 20, 2012</td>\n",
       "      <td>27</td>\n",
       "    </tr>\n",
       "    <tr>\n",
       "      <th>1</th>\n",
       "      <td>95260</td>\n",
       "      <td>Guanfacine</td>\n",
       "      <td>ADHD</td>\n",
       "      <td>\"My son is halfway through his fourth week of ...</td>\n",
       "      <td>8.0</td>\n",
       "      <td>April 27, 2010</td>\n",
       "      <td>192</td>\n",
       "    </tr>\n",
       "    <tr>\n",
       "      <th>2</th>\n",
       "      <td>92703</td>\n",
       "      <td>Lybrel</td>\n",
       "      <td>Birth Control</td>\n",
       "      <td>\"I used to take another oral contraceptive, wh...</td>\n",
       "      <td>5.0</td>\n",
       "      <td>December 14, 2009</td>\n",
       "      <td>17</td>\n",
       "    </tr>\n",
       "    <tr>\n",
       "      <th>3</th>\n",
       "      <td>138000</td>\n",
       "      <td>Ortho Evra</td>\n",
       "      <td>Birth Control</td>\n",
       "      <td>\"This is my first time using any form of birth...</td>\n",
       "      <td>8.0</td>\n",
       "      <td>November 3, 2015</td>\n",
       "      <td>10</td>\n",
       "    </tr>\n",
       "    <tr>\n",
       "      <th>4</th>\n",
       "      <td>35696</td>\n",
       "      <td>Buprenorphine / naloxone</td>\n",
       "      <td>Opiate Dependence</td>\n",
       "      <td>\"Suboxone has completely turned my life around...</td>\n",
       "      <td>9.0</td>\n",
       "      <td>November 27, 2016</td>\n",
       "      <td>37</td>\n",
       "    </tr>\n",
       "  </tbody>\n",
       "</table>\n",
       "</div>"
      ],
      "text/plain": [
       "   Unnamed: 0                  drugName                     condition  \\\n",
       "0      206461                 Valsartan  Left Ventricular Dysfunction   \n",
       "1       95260                Guanfacine                          ADHD   \n",
       "2       92703                    Lybrel                 Birth Control   \n",
       "3      138000                Ortho Evra                 Birth Control   \n",
       "4       35696  Buprenorphine / naloxone             Opiate Dependence   \n",
       "\n",
       "                                              review  rating  \\\n",
       "0  \"It has no side effect, I take it in combinati...     9.0   \n",
       "1  \"My son is halfway through his fourth week of ...     8.0   \n",
       "2  \"I used to take another oral contraceptive, wh...     5.0   \n",
       "3  \"This is my first time using any form of birth...     8.0   \n",
       "4  \"Suboxone has completely turned my life around...     9.0   \n",
       "\n",
       "                date  usefulCount  \n",
       "0       May 20, 2012           27  \n",
       "1     April 27, 2010          192  \n",
       "2  December 14, 2009           17  \n",
       "3   November 3, 2015           10  \n",
       "4  November 27, 2016           37  "
      ]
     },
     "execution_count": 4,
     "metadata": {},
     "output_type": "execute_result"
    }
   ],
   "source": [
    "df.head()"
   ]
  },
  {
   "cell_type": "code",
   "execution_count": 5,
   "metadata": {},
   "outputs": [
    {
     "data": {
      "text/html": [
       "<div>\n",
       "<style scoped>\n",
       "    .dataframe tbody tr th:only-of-type {\n",
       "        vertical-align: middle;\n",
       "    }\n",
       "\n",
       "    .dataframe tbody tr th {\n",
       "        vertical-align: top;\n",
       "    }\n",
       "\n",
       "    .dataframe thead th {\n",
       "        text-align: right;\n",
       "    }\n",
       "</style>\n",
       "<table border=\"1\" class=\"dataframe\">\n",
       "  <thead>\n",
       "    <tr style=\"text-align: right;\">\n",
       "      <th></th>\n",
       "      <th>Unnamed: 0</th>\n",
       "      <th>drugName</th>\n",
       "      <th>condition</th>\n",
       "      <th>review</th>\n",
       "      <th>rating</th>\n",
       "      <th>date</th>\n",
       "      <th>usefulCount</th>\n",
       "    </tr>\n",
       "  </thead>\n",
       "  <tbody>\n",
       "    <tr>\n",
       "      <th>53761</th>\n",
       "      <td>159999</td>\n",
       "      <td>Tamoxifen</td>\n",
       "      <td>Breast Cancer, Prevention</td>\n",
       "      <td>\"I have taken Tamoxifen for 5 years. Side effe...</td>\n",
       "      <td>10.0</td>\n",
       "      <td>September 13, 2014</td>\n",
       "      <td>43</td>\n",
       "    </tr>\n",
       "    <tr>\n",
       "      <th>53762</th>\n",
       "      <td>140714</td>\n",
       "      <td>Escitalopram</td>\n",
       "      <td>Anxiety</td>\n",
       "      <td>\"I&amp;#039;ve been taking Lexapro (escitaploprgra...</td>\n",
       "      <td>9.0</td>\n",
       "      <td>October 8, 2016</td>\n",
       "      <td>11</td>\n",
       "    </tr>\n",
       "    <tr>\n",
       "      <th>53763</th>\n",
       "      <td>130945</td>\n",
       "      <td>Levonorgestrel</td>\n",
       "      <td>Birth Control</td>\n",
       "      <td>\"I&amp;#039;m married, 34 years old and I have no ...</td>\n",
       "      <td>8.0</td>\n",
       "      <td>November 15, 2010</td>\n",
       "      <td>7</td>\n",
       "    </tr>\n",
       "    <tr>\n",
       "      <th>53764</th>\n",
       "      <td>47656</td>\n",
       "      <td>Tapentadol</td>\n",
       "      <td>Pain</td>\n",
       "      <td>\"I was prescribed Nucynta for severe neck/shou...</td>\n",
       "      <td>1.0</td>\n",
       "      <td>November 28, 2011</td>\n",
       "      <td>20</td>\n",
       "    </tr>\n",
       "    <tr>\n",
       "      <th>53765</th>\n",
       "      <td>113712</td>\n",
       "      <td>Arthrotec</td>\n",
       "      <td>Sciatica</td>\n",
       "      <td>\"It works!!!\"</td>\n",
       "      <td>9.0</td>\n",
       "      <td>September 13, 2009</td>\n",
       "      <td>46</td>\n",
       "    </tr>\n",
       "  </tbody>\n",
       "</table>\n",
       "</div>"
      ],
      "text/plain": [
       "       Unnamed: 0        drugName                  condition  \\\n",
       "53761      159999       Tamoxifen  Breast Cancer, Prevention   \n",
       "53762      140714    Escitalopram                    Anxiety   \n",
       "53763      130945  Levonorgestrel              Birth Control   \n",
       "53764       47656      Tapentadol                       Pain   \n",
       "53765      113712       Arthrotec                   Sciatica   \n",
       "\n",
       "                                                  review  rating  \\\n",
       "53761  \"I have taken Tamoxifen for 5 years. Side effe...    10.0   \n",
       "53762  \"I&#039;ve been taking Lexapro (escitaploprgra...     9.0   \n",
       "53763  \"I&#039;m married, 34 years old and I have no ...     8.0   \n",
       "53764  \"I was prescribed Nucynta for severe neck/shou...     1.0   \n",
       "53765                                      \"It works!!!\"     9.0   \n",
       "\n",
       "                     date  usefulCount  \n",
       "53761  September 13, 2014           43  \n",
       "53762     October 8, 2016           11  \n",
       "53763   November 15, 2010            7  \n",
       "53764   November 28, 2011           20  \n",
       "53765  September 13, 2009           46  "
      ]
     },
     "execution_count": 5,
     "metadata": {},
     "output_type": "execute_result"
    }
   ],
   "source": [
    "df2.tail()"
   ]
  },
  {
   "cell_type": "code",
   "execution_count": 6,
   "metadata": {},
   "outputs": [],
   "source": [
    "frames = [df, df2]\n",
    "data = pd.concat(frames)"
   ]
  },
  {
   "cell_type": "code",
   "execution_count": 7,
   "metadata": {},
   "outputs": [
    {
     "data": {
      "text/html": [
       "<div>\n",
       "<style scoped>\n",
       "    .dataframe tbody tr th:only-of-type {\n",
       "        vertical-align: middle;\n",
       "    }\n",
       "\n",
       "    .dataframe tbody tr th {\n",
       "        vertical-align: top;\n",
       "    }\n",
       "\n",
       "    .dataframe thead th {\n",
       "        text-align: right;\n",
       "    }\n",
       "</style>\n",
       "<table border=\"1\" class=\"dataframe\">\n",
       "  <thead>\n",
       "    <tr style=\"text-align: right;\">\n",
       "      <th></th>\n",
       "      <th>Unnamed: 0</th>\n",
       "      <th>drugName</th>\n",
       "      <th>condition</th>\n",
       "      <th>review</th>\n",
       "      <th>rating</th>\n",
       "      <th>date</th>\n",
       "      <th>usefulCount</th>\n",
       "    </tr>\n",
       "  </thead>\n",
       "  <tbody>\n",
       "    <tr>\n",
       "      <th>53761</th>\n",
       "      <td>159999</td>\n",
       "      <td>Tamoxifen</td>\n",
       "      <td>Breast Cancer, Prevention</td>\n",
       "      <td>\"I have taken Tamoxifen for 5 years. Side effe...</td>\n",
       "      <td>10.0</td>\n",
       "      <td>September 13, 2014</td>\n",
       "      <td>43</td>\n",
       "    </tr>\n",
       "    <tr>\n",
       "      <th>53762</th>\n",
       "      <td>140714</td>\n",
       "      <td>Escitalopram</td>\n",
       "      <td>Anxiety</td>\n",
       "      <td>\"I&amp;#039;ve been taking Lexapro (escitaploprgra...</td>\n",
       "      <td>9.0</td>\n",
       "      <td>October 8, 2016</td>\n",
       "      <td>11</td>\n",
       "    </tr>\n",
       "    <tr>\n",
       "      <th>53763</th>\n",
       "      <td>130945</td>\n",
       "      <td>Levonorgestrel</td>\n",
       "      <td>Birth Control</td>\n",
       "      <td>\"I&amp;#039;m married, 34 years old and I have no ...</td>\n",
       "      <td>8.0</td>\n",
       "      <td>November 15, 2010</td>\n",
       "      <td>7</td>\n",
       "    </tr>\n",
       "    <tr>\n",
       "      <th>53764</th>\n",
       "      <td>47656</td>\n",
       "      <td>Tapentadol</td>\n",
       "      <td>Pain</td>\n",
       "      <td>\"I was prescribed Nucynta for severe neck/shou...</td>\n",
       "      <td>1.0</td>\n",
       "      <td>November 28, 2011</td>\n",
       "      <td>20</td>\n",
       "    </tr>\n",
       "    <tr>\n",
       "      <th>53765</th>\n",
       "      <td>113712</td>\n",
       "      <td>Arthrotec</td>\n",
       "      <td>Sciatica</td>\n",
       "      <td>\"It works!!!\"</td>\n",
       "      <td>9.0</td>\n",
       "      <td>September 13, 2009</td>\n",
       "      <td>46</td>\n",
       "    </tr>\n",
       "  </tbody>\n",
       "</table>\n",
       "</div>"
      ],
      "text/plain": [
       "       Unnamed: 0        drugName                  condition  \\\n",
       "53761      159999       Tamoxifen  Breast Cancer, Prevention   \n",
       "53762      140714    Escitalopram                    Anxiety   \n",
       "53763      130945  Levonorgestrel              Birth Control   \n",
       "53764       47656      Tapentadol                       Pain   \n",
       "53765      113712       Arthrotec                   Sciatica   \n",
       "\n",
       "                                                  review  rating  \\\n",
       "53761  \"I have taken Tamoxifen for 5 years. Side effe...    10.0   \n",
       "53762  \"I&#039;ve been taking Lexapro (escitaploprgra...     9.0   \n",
       "53763  \"I&#039;m married, 34 years old and I have no ...     8.0   \n",
       "53764  \"I was prescribed Nucynta for severe neck/shou...     1.0   \n",
       "53765                                      \"It works!!!\"     9.0   \n",
       "\n",
       "                     date  usefulCount  \n",
       "53761  September 13, 2014           43  \n",
       "53762     October 8, 2016           11  \n",
       "53763   November 15, 2010            7  \n",
       "53764   November 28, 2011           20  \n",
       "53765  September 13, 2009           46  "
      ]
     },
     "execution_count": 7,
     "metadata": {},
     "output_type": "execute_result"
    }
   ],
   "source": [
    "data.tail()"
   ]
  },
  {
   "cell_type": "code",
   "execution_count": 46,
   "metadata": {},
   "outputs": [
    {
     "data": {
      "text/html": [
       "<div>\n",
       "<style scoped>\n",
       "    .dataframe tbody tr th:only-of-type {\n",
       "        vertical-align: middle;\n",
       "    }\n",
       "\n",
       "    .dataframe tbody tr th {\n",
       "        vertical-align: top;\n",
       "    }\n",
       "\n",
       "    .dataframe thead th {\n",
       "        text-align: right;\n",
       "    }\n",
       "</style>\n",
       "<table border=\"1\" class=\"dataframe\">\n",
       "  <thead>\n",
       "    <tr style=\"text-align: right;\">\n",
       "      <th></th>\n",
       "      <th>Unnamed: 0</th>\n",
       "      <th>drugName</th>\n",
       "      <th>condition</th>\n",
       "      <th>review</th>\n",
       "      <th>rating</th>\n",
       "      <th>date</th>\n",
       "      <th>usefulCount</th>\n",
       "    </tr>\n",
       "  </thead>\n",
       "  <tbody>\n",
       "    <tr>\n",
       "      <th>110036</th>\n",
       "      <td>44753</td>\n",
       "      <td>Ramipril</td>\n",
       "      <td>High Blood Pressure</td>\n",
       "      <td>\"I have used altace for 5 yrs now and have fou...</td>\n",
       "      <td>9.0</td>\n",
       "      <td>April 1, 2008</td>\n",
       "      <td>130</td>\n",
       "    </tr>\n",
       "    <tr>\n",
       "      <th>159280</th>\n",
       "      <td>62756</td>\n",
       "      <td>Citalopram</td>\n",
       "      <td>Depression</td>\n",
       "      <td>\"It is so nice to have my life back!!!\"</td>\n",
       "      <td>10.0</td>\n",
       "      <td>April 1, 2008</td>\n",
       "      <td>267</td>\n",
       "    </tr>\n",
       "    <tr>\n",
       "      <th>59644</th>\n",
       "      <td>145509</td>\n",
       "      <td>Zithromax</td>\n",
       "      <td>Otitis Media</td>\n",
       "      <td>\"this medicine absolutely did not help. have b...</td>\n",
       "      <td>1.0</td>\n",
       "      <td>April 1, 2008</td>\n",
       "      <td>20</td>\n",
       "    </tr>\n",
       "    <tr>\n",
       "      <th>129132</th>\n",
       "      <td>43847</td>\n",
       "      <td>Acetaminophen / codeine</td>\n",
       "      <td>Pain</td>\n",
       "      <td>\"I take Acetaminophen w/Codeine #3.  It helps ...</td>\n",
       "      <td>8.0</td>\n",
       "      <td>April 1, 2008</td>\n",
       "      <td>14</td>\n",
       "    </tr>\n",
       "    <tr>\n",
       "      <th>28967</th>\n",
       "      <td>119667</td>\n",
       "      <td>Testosterone</td>\n",
       "      <td>Hypogonadism, Male</td>\n",
       "      <td>\"I&amp;#039;m a 35 year old male and I had no idea...</td>\n",
       "      <td>9.0</td>\n",
       "      <td>April 1, 2008</td>\n",
       "      <td>357</td>\n",
       "    </tr>\n",
       "    <tr>\n",
       "      <th>...</th>\n",
       "      <td>...</td>\n",
       "      <td>...</td>\n",
       "      <td>...</td>\n",
       "      <td>...</td>\n",
       "      <td>...</td>\n",
       "      <td>...</td>\n",
       "      <td>...</td>\n",
       "    </tr>\n",
       "    <tr>\n",
       "      <th>724</th>\n",
       "      <td>76408</td>\n",
       "      <td>Liraglutide</td>\n",
       "      <td>Obesity</td>\n",
       "      <td>\"I&amp;#039;m a 45 yr old female, 5&amp;#039;6&amp;quot; t...</td>\n",
       "      <td>10.0</td>\n",
       "      <td>September 9, 2017</td>\n",
       "      <td>16</td>\n",
       "    </tr>\n",
       "    <tr>\n",
       "      <th>51562</th>\n",
       "      <td>22576</td>\n",
       "      <td>Pylera</td>\n",
       "      <td>Helicobacter Pylori Infection</td>\n",
       "      <td>\"I&amp;#039;m only on day 2 and I had to call out ...</td>\n",
       "      <td>1.0</td>\n",
       "      <td>September 9, 2017</td>\n",
       "      <td>6</td>\n",
       "    </tr>\n",
       "    <tr>\n",
       "      <th>44644</th>\n",
       "      <td>231246</td>\n",
       "      <td>Trazodone</td>\n",
       "      <td>Insomnia</td>\n",
       "      <td>\"I started taking Trazadone 50mg after being d...</td>\n",
       "      <td>5.0</td>\n",
       "      <td>September 9, 2017</td>\n",
       "      <td>18</td>\n",
       "    </tr>\n",
       "    <tr>\n",
       "      <th>87822</th>\n",
       "      <td>68522</td>\n",
       "      <td>Medroxyprogesterone</td>\n",
       "      <td>Abnormal Uterine Bleeding</td>\n",
       "      <td>\"I started on the shot in  May of 2017. The wh...</td>\n",
       "      <td>1.0</td>\n",
       "      <td>September 9, 2017</td>\n",
       "      <td>11</td>\n",
       "    </tr>\n",
       "    <tr>\n",
       "      <th>86467</th>\n",
       "      <td>204108</td>\n",
       "      <td>Marlissa</td>\n",
       "      <td>Birth Control</td>\n",
       "      <td>\"I started on this a while ago. It was wonderf...</td>\n",
       "      <td>10.0</td>\n",
       "      <td>September 9, 2017</td>\n",
       "      <td>1</td>\n",
       "    </tr>\n",
       "  </tbody>\n",
       "</table>\n",
       "<p>215063 rows × 7 columns</p>\n",
       "</div>"
      ],
      "text/plain": [
       "        Unnamed: 0                 drugName                      condition  \\\n",
       "110036       44753                 Ramipril            High Blood Pressure   \n",
       "159280       62756               Citalopram                     Depression   \n",
       "59644       145509                Zithromax                   Otitis Media   \n",
       "129132       43847  Acetaminophen / codeine                           Pain   \n",
       "28967       119667             Testosterone             Hypogonadism, Male   \n",
       "...            ...                      ...                            ...   \n",
       "724          76408              Liraglutide                        Obesity   \n",
       "51562        22576                   Pylera  Helicobacter Pylori Infection   \n",
       "44644       231246                Trazodone                       Insomnia   \n",
       "87822        68522      Medroxyprogesterone      Abnormal Uterine Bleeding   \n",
       "86467       204108                 Marlissa                  Birth Control   \n",
       "\n",
       "                                                   review  rating  \\\n",
       "110036  \"I have used altace for 5 yrs now and have fou...     9.0   \n",
       "159280            \"It is so nice to have my life back!!!\"    10.0   \n",
       "59644   \"this medicine absolutely did not help. have b...     1.0   \n",
       "129132  \"I take Acetaminophen w/Codeine #3.  It helps ...     8.0   \n",
       "28967   \"I&#039;m a 35 year old male and I had no idea...     9.0   \n",
       "...                                                   ...     ...   \n",
       "724     \"I&#039;m a 45 yr old female, 5&#039;6&quot; t...    10.0   \n",
       "51562   \"I&#039;m only on day 2 and I had to call out ...     1.0   \n",
       "44644   \"I started taking Trazadone 50mg after being d...     5.0   \n",
       "87822   \"I started on the shot in  May of 2017. The wh...     1.0   \n",
       "86467   \"I started on this a while ago. It was wonderf...    10.0   \n",
       "\n",
       "                     date  usefulCount  \n",
       "110036      April 1, 2008          130  \n",
       "159280      April 1, 2008          267  \n",
       "59644       April 1, 2008           20  \n",
       "129132      April 1, 2008           14  \n",
       "28967       April 1, 2008          357  \n",
       "...                   ...          ...  \n",
       "724     September 9, 2017           16  \n",
       "51562   September 9, 2017            6  \n",
       "44644   September 9, 2017           18  \n",
       "87822   September 9, 2017           11  \n",
       "86467   September 9, 2017            1  \n",
       "\n",
       "[215063 rows x 7 columns]"
      ]
     },
     "execution_count": 46,
     "metadata": {},
     "output_type": "execute_result"
    }
   ],
   "source": [
    "data.sort_values(by=['date'])"
   ]
  },
  {
   "cell_type": "code",
   "execution_count": 8,
   "metadata": {},
   "outputs": [],
   "source": [
    "data.sort_values(by=['drugName'], inplace=True)"
   ]
  },
  {
   "cell_type": "code",
   "execution_count": 9,
   "metadata": {},
   "outputs": [
    {
     "data": {
      "text/plain": [
       "False"
      ]
     },
     "execution_count": 9,
     "metadata": {},
     "output_type": "execute_result"
    }
   ],
   "source": [
    "data['rating'].isnull().values.any()"
   ]
  },
  {
   "cell_type": "code",
   "execution_count": 10,
   "metadata": {},
   "outputs": [
    {
     "data": {
      "text/html": [
       "<div>\n",
       "<style scoped>\n",
       "    .dataframe tbody tr th:only-of-type {\n",
       "        vertical-align: middle;\n",
       "    }\n",
       "\n",
       "    .dataframe tbody tr th {\n",
       "        vertical-align: top;\n",
       "    }\n",
       "\n",
       "    .dataframe thead th {\n",
       "        text-align: right;\n",
       "    }\n",
       "</style>\n",
       "<table border=\"1\" class=\"dataframe\">\n",
       "  <thead>\n",
       "    <tr style=\"text-align: right;\">\n",
       "      <th></th>\n",
       "      <th>condition</th>\n",
       "      <th>drugName</th>\n",
       "      <th>rating</th>\n",
       "    </tr>\n",
       "  </thead>\n",
       "  <tbody>\n",
       "    <tr>\n",
       "      <th>9892</th>\n",
       "      <td>Bacterial Skin Infection</td>\n",
       "      <td>A + D Cracked Skin Relief</td>\n",
       "      <td>10.0</td>\n",
       "    </tr>\n",
       "    <tr>\n",
       "      <th>9091</th>\n",
       "      <td>Otitis Media</td>\n",
       "      <td>A / B Otic</td>\n",
       "      <td>10.0</td>\n",
       "    </tr>\n",
       "    <tr>\n",
       "      <th>18402</th>\n",
       "      <td>Otitis Media</td>\n",
       "      <td>A / B Otic</td>\n",
       "      <td>10.0</td>\n",
       "    </tr>\n",
       "    <tr>\n",
       "      <th>10591</th>\n",
       "      <td>HIV Infection</td>\n",
       "      <td>Abacavir / dolutegravir / lamivudine</td>\n",
       "      <td>1.0</td>\n",
       "    </tr>\n",
       "    <tr>\n",
       "      <th>112230</th>\n",
       "      <td>HIV Infection</td>\n",
       "      <td>Abacavir / dolutegravir / lamivudine</td>\n",
       "      <td>10.0</td>\n",
       "    </tr>\n",
       "    <tr>\n",
       "      <th>...</th>\n",
       "      <td>...</td>\n",
       "      <td>...</td>\n",
       "      <td>...</td>\n",
       "    </tr>\n",
       "    <tr>\n",
       "      <th>20705</th>\n",
       "      <td>Acne</td>\n",
       "      <td>femhrt</td>\n",
       "      <td>8.0</td>\n",
       "    </tr>\n",
       "    <tr>\n",
       "      <th>24189</th>\n",
       "      <td>0&lt;/span&gt; users found this comment helpful.</td>\n",
       "      <td>femhrt</td>\n",
       "      <td>1.0</td>\n",
       "    </tr>\n",
       "    <tr>\n",
       "      <th>2900</th>\n",
       "      <td>Menstrual Disorders</td>\n",
       "      <td>femhrt</td>\n",
       "      <td>10.0</td>\n",
       "    </tr>\n",
       "    <tr>\n",
       "      <th>578</th>\n",
       "      <td>Postmenopausal Symptoms</td>\n",
       "      <td>femhrt</td>\n",
       "      <td>10.0</td>\n",
       "    </tr>\n",
       "    <tr>\n",
       "      <th>16138</th>\n",
       "      <td>Skin Disinfection, Preoperative</td>\n",
       "      <td>pHisoHex</td>\n",
       "      <td>10.0</td>\n",
       "    </tr>\n",
       "  </tbody>\n",
       "</table>\n",
       "<p>215063 rows × 3 columns</p>\n",
       "</div>"
      ],
      "text/plain": [
       "                                         condition  \\\n",
       "9892                      Bacterial Skin Infection   \n",
       "9091                                  Otitis Media   \n",
       "18402                                 Otitis Media   \n",
       "10591                                HIV Infection   \n",
       "112230                               HIV Infection   \n",
       "...                                            ...   \n",
       "20705                                         Acne   \n",
       "24189   0</span> users found this comment helpful.   \n",
       "2900                           Menstrual Disorders   \n",
       "578                        Postmenopausal Symptoms   \n",
       "16138              Skin Disinfection, Preoperative   \n",
       "\n",
       "                                    drugName  rating  \n",
       "9892               A + D Cracked Skin Relief    10.0  \n",
       "9091                              A / B Otic    10.0  \n",
       "18402                             A / B Otic    10.0  \n",
       "10591   Abacavir / dolutegravir / lamivudine     1.0  \n",
       "112230  Abacavir / dolutegravir / lamivudine    10.0  \n",
       "...                                      ...     ...  \n",
       "20705                                 femhrt     8.0  \n",
       "24189                                 femhrt     1.0  \n",
       "2900                                  femhrt    10.0  \n",
       "578                                   femhrt    10.0  \n",
       "16138                               pHisoHex    10.0  \n",
       "\n",
       "[215063 rows x 3 columns]"
      ]
     },
     "execution_count": 10,
     "metadata": {},
     "output_type": "execute_result"
    }
   ],
   "source": [
    "new_data = data[['condition', 'drugName', 'rating']]\n",
    "new_data"
   ]
  },
  {
   "cell_type": "code",
   "execution_count": 11,
   "metadata": {},
   "outputs": [],
   "source": [
    "grouped = new_data.groupby(['drugName']).mean()\n",
    "#grouped.sort_values(by='rating')"
   ]
  },
  {
   "cell_type": "code",
   "execution_count": 48,
   "metadata": {},
   "outputs": [
    {
     "data": {
      "text/plain": [
       "Birth Control    38436\n",
       "Depression       12164\n",
       "Pain              8245\n",
       "Anxiety           7812\n",
       "Acne              7435\n",
       "Name: condition, dtype: int64"
      ]
     },
     "execution_count": 48,
     "metadata": {},
     "output_type": "execute_result"
    }
   ],
   "source": [
    "counts = new_data['condition'].value_counts()\n",
    "top_conditions = counts[counts > 6000]\n",
    "top_conditions"
   ]
  },
  {
   "cell_type": "code",
   "execution_count": 50,
   "metadata": {},
   "outputs": [],
   "source": [
    "top_con = pd.DataFrame({'Condition': ['Birth Control', 'Depression', 'Pain', 'Anxiety', 'Acne'], 'Number of Reviews': [38436, 12164, 8245, 7812, 7435]})"
   ]
  },
  {
   "cell_type": "code",
   "execution_count": 13,
   "metadata": {},
   "outputs": [
    {
     "data": {
      "image/png": "[encoded data removed]",
      "text/plain": [
       "<Figure size 432x288 with 1 Axes>"
      ]
     },
     "metadata": {
      "image/png": {
       "height": 304,
       "width": 388
      }
     },
     "output_type": "display_data"
    }
   ],
   "source": [
    "top_conditions.plot(kind='bar');"
   ]
  },
  {
   "cell_type": "code",
   "execution_count": 120,
   "metadata": {},
   "outputs": [
    {
     "data": {
      "image/png": "[encoded data removed]",
      "text/plain": [
       "<Figure size 720x432 with 1 Axes>"
      ]
     },
     "metadata": {
      "image/png": {
       "height": 409,
       "width": 653
      }
     },
     "output_type": "display_data"
    }
   ],
   "source": [
    "x = top_con['Condition']\n",
    "y = top_con['Number of Reviews']\n",
    "plt.rcParams.update({'font.size': 16})\n",
    "fig, ax = plt.subplots(figsize = (10, 6))\n",
    "ax.bar(x, y, color = ['#f0f9e8', '#bae4bc', '#7bccc4', '#43a2ca', '#0868ac'])\n",
    "ax.set_title(\"Top Reviewed Conditions\")\n",
    "ax.set_xlabel(\"Conditions\")\n",
    "ax.set_ylabel(\"Number of Reviews\")\n",
    "plt.tick_params(labelsize=16)\n",
    "plt.savefig('TopConditions.jpg');\n"
   ]
  },
  {
   "cell_type": "code",
   "execution_count": 16,
   "metadata": {},
   "outputs": [],
   "source": [
    "bc = new_data[new_data['condition'] == 'Birth Control']\n",
    "dep = new_data[new_data['condition'] == 'Depression']\n",
    "pain = new_data[new_data['condition'] == 'Pain']\n",
    "anx = new_data[new_data['condition'] == 'Anxiety']\n",
    "acne = new_data[new_data['condition'] == 'Acne']\n",
    "bc2 = bc.groupby('drugName')"
   ]
  },
  {
   "cell_type": "code",
   "execution_count": 80,
   "metadata": {},
   "outputs": [],
   "source": [
    "bc['drugName'].value_counts()\n",
    "top_drug = pd.DataFrame({'Drug Name': ['Etonogestrel', 'Levonorgestrel', 'Nexplanon', 'Implanon', 'Mirena'], 'Number of Reviews': [4394, 2884, 2883, 1496, 1320]})"
   ]
  },
  {
   "cell_type": "code",
   "execution_count": 81,
   "metadata": {},
   "outputs": [],
   "source": [
    "x2 = top_drug['Drug Name']\n",
    "y2 = top_drug['Number of Reviews']"
   ]
  },
  {
   "cell_type": "code",
   "execution_count": 119,
   "metadata": {},
   "outputs": [
    {
     "data": {
      "image/png": "[encoded data removed]",
      "text/plain": [
       "<Figure size 720x432 with 1 Axes>"
      ]
     },
     "metadata": {
      "image/png": {
       "height": 408,
       "width": 638
      }
     },
     "output_type": "display_data"
    }
   ],
   "source": [
    "x = top_con['Condition']\n",
    "y = top_con['Number of Reviews']\n",
    "plt.rcParams.update({'font.size': 16})\n",
    "fig, ax = plt.subplots(figsize = (10, 6))\n",
    "ax.bar(x2, y2, color = ['#f0f9e8', '#bae4bc', '#7bccc4', '#43a2ca', '#0868ac'])\n",
    "ax.set_title(\"Top Reviewed Birth Control Drugs\")\n",
    "ax.set_xlabel(\"Birth Control Drugs\")\n",
    "ax.set_ylabel(\"Number of Reviews\")\n",
    "plt.tick_params(labelsize=14)\n",
    "#plt.xticks(rotation=15)\n",
    "plt.savefig('TopBCDrugs.jpg');"
   ]
  },
  {
   "cell_type": "code",
   "execution_count": null,
   "metadata": {},
   "outputs": [],
   "source": []
  },
  {
   "cell_type": "code",
   "execution_count": null,
   "metadata": {},
   "outputs": [],
   "source": []
  },
  {
   "cell_type": "code",
   "execution_count": null,
   "metadata": {},
   "outputs": [],
   "source": []
  },
  {
   "cell_type": "code",
   "execution_count": null,
   "metadata": {},
   "outputs": [],
   "source": [
    "ten"
   ]
  },
  {
   "cell_type": "code",
   "execution_count": 18,
   "metadata": {},
   "outputs": [
    {
     "data": {
      "text/plain": [
       "<AxesSubplot:>"
      ]
     },
     "execution_count": 18,
     "metadata": {},
     "output_type": "execute_result"
    },
    {
     "data": {
      "image/png": "[encoded data removed]",
      "text/plain": [
       "<Figure size 432x288 with 1 Axes>"
      ]
     },
     "metadata": {
      "image/png": {
       "height": 248,
       "width": 381
      }
     },
     "output_type": "display_data"
    }
   ],
   "source": [
    "hi = bc['drugName'].value_counts()\n",
    "hi.plot()"
   ]
  },
  {
   "cell_type": "code",
   "execution_count": null,
   "metadata": {},
   "outputs": [],
   "source": []
  },
  {
   "cell_type": "code",
   "execution_count": 19,
   "metadata": {},
   "outputs": [],
   "source": [
    "#bc['drugName'].value_counts()"
   ]
  },
  {
   "cell_type": "code",
   "execution_count": null,
   "metadata": {},
   "outputs": [],
   "source": []
  },
  {
   "cell_type": "code",
   "execution_count": 20,
   "metadata": {},
   "outputs": [
    {
     "data": {
      "text/plain": [
       "['condition', 'drugName', 'rating']"
      ]
     },
     "execution_count": 20,
     "metadata": {},
     "output_type": "execute_result"
    }
   ],
   "source": [
    "list(bc.columns)"
   ]
  },
  {
   "cell_type": "code",
   "execution_count": null,
   "metadata": {},
   "outputs": [],
   "source": []
  },
  {
   "cell_type": "code",
   "execution_count": 22,
   "metadata": {},
   "outputs": [
    {
     "data": {
      "image/png": "[encoded data removed]",
      "text/plain": [
       "<Figure size 432x288 with 1 Axes>"
      ]
     },
     "metadata": {
      "image/png": {
       "height": 248,
       "width": 381
      }
     },
     "output_type": "display_data"
    }
   ],
   "source": [
    "fig, ax = plt.subplots()\n",
    "ax.scatter(data['rating'],data['usefulCount']);"
   ]
  },
  {
   "cell_type": "code",
   "execution_count": null,
   "metadata": {},
   "outputs": [],
   "source": []
  },
  {
   "cell_type": "code",
   "execution_count": 23,
   "metadata": {},
   "outputs": [
    {
     "data": {
      "text/plain": [
       "rating    5.829768\n",
       "dtype: float64"
      ]
     },
     "execution_count": 23,
     "metadata": {},
     "output_type": "execute_result"
    }
   ],
   "source": [
    "bc[bc['drugName'] == 'Etonogestrel'].mean()"
   ]
  },
  {
   "cell_type": "code",
   "execution_count": 24,
   "metadata": {},
   "outputs": [],
   "source": [
    "est = bc[bc['drugName'] == 'Etonogestrel']"
   ]
  },
  {
   "cell_type": "code",
   "execution_count": 25,
   "metadata": {},
   "outputs": [],
   "source": [
    "estr = est['rating']"
   ]
  },
  {
   "cell_type": "code",
   "execution_count": 26,
   "metadata": {},
   "outputs": [
    {
     "data": {
      "text/plain": [
       "rating    6.175134\n",
       "dtype: float64"
      ]
     },
     "execution_count": 26,
     "metadata": {},
     "output_type": "execute_result"
    }
   ],
   "source": [
    "bc[bc['drugName'] == 'Implanon'].mean()"
   ]
  },
  {
   "cell_type": "code",
   "execution_count": 27,
   "metadata": {},
   "outputs": [
    {
     "data": {
      "text/plain": [
       "rating    5.64967\n",
       "dtype: float64"
      ]
     },
     "execution_count": 27,
     "metadata": {},
     "output_type": "execute_result"
    }
   ],
   "source": [
    "bc[bc['drugName'] == 'Nexplanon'].mean()"
   ]
  },
  {
   "cell_type": "code",
   "execution_count": 28,
   "metadata": {},
   "outputs": [
    {
     "data": {
      "text/plain": [
       "rating    6.640777\n",
       "dtype: float64"
      ]
     },
     "execution_count": 28,
     "metadata": {},
     "output_type": "execute_result"
    }
   ],
   "source": [
    "bc[bc['drugName'] == 'NuvaRing'].mean()"
   ]
  },
  {
   "cell_type": "code",
   "execution_count": 149,
   "metadata": {},
   "outputs": [],
   "source": [
    "df = pd.DataFrame({'Drug Name': ['Etonogestrel (generic)', 'Implanon', 'Nexplanon', 'NuvaRing'], 'Avg Rating': [5.829768, 6.175134, 5.64967, 6.640777]})"
   ]
  },
  {
   "cell_type": "code",
   "execution_count": null,
   "metadata": {},
   "outputs": [],
   "source": []
  },
  {
   "cell_type": "code",
   "execution_count": 152,
   "metadata": {},
   "outputs": [
    {
     "data": {
      "image/png": "[encoded data removed]",
      "text/plain": [
       "<Figure size 720x432 with 1 Axes>"
      ]
     },
     "metadata": {
      "image/png": {
       "height": 409,
       "width": 622
      }
     },
     "output_type": "display_data"
    }
   ],
   "source": [
    "x3 = df['Drug Name']\n",
    "y3 = df['Avg Rating']\n",
    "plt.rcParams.update({'font.size': 16})\n",
    "fig, ax = plt.subplots(figsize = (10, 6))\n",
    "ax.bar(x3, y3, color = ['#f0f9e8', '#bae4bc', '#7bccc4', '#43a2ca'])\n",
    "ax.set_title(\"Generic vs Brand Name Average Ratings\")\n",
    "ax.set_xlabel(\"Drug Names\")\n",
    "ax.set_ylabel(\"Average Rating\")\n",
    "ax.set_yticks(range(1, 11))\n",
    "plt.tick_params(labelsize=16)\n",
    "for i, v in enumerate(y3):\n",
    "    ax.text(i-.25, \n",
    "              v/y3[i]-.5, \n",
    "              y3[i], \n",
    "              fontsize=12, \n",
    "              color='black')\n",
    "plt.savefig('GenericVBrand.jpg');"
   ]
  },
  {
   "cell_type": "code",
   "execution_count": 44,
   "metadata": {},
   "outputs": [
    {
     "data": {
      "text/plain": [
       "Etonogestrel                                               4394\n",
       "Ethinyl estradiol / norethindrone                          3081\n",
       "Levonorgestrel                                             2884\n",
       "Nexplanon                                                  2883\n",
       "Ethinyl estradiol / levonorgestrel                         2107\n",
       "Ethinyl estradiol / norgestimate                           2097\n",
       "Implanon                                                   1496\n",
       "Mirena                                                     1320\n",
       "Skyla                                                      1074\n",
       "Lo Loestrin Fe                                              896\n",
       "Ethinyl estradiol / etonogestrel                            827\n",
       "NuvaRing                                                    824\n",
       "Copper                                                      800\n",
       "Drospirenone / ethinyl estradiol                            685\n",
       "Medroxyprogesterone                                         656\n",
       "Desogestrel / ethinyl estradiol                             655\n",
       "Depo-Provera                                                633\n",
       "Sprintec                                                    598\n",
       "ParaGard                                                    508\n",
       "Ethinyl estradiol / norelgestromin                          508\n",
       "Norethindrone                                               437\n",
       "Microgestin Fe 1 / 20                                       430\n",
       "Loestrin 24 Fe                                              372\n",
       "Tri-Sprintec                                                336\n",
       "Aviane                                                      304\n",
       "Ortho Evra                                                  291\n",
       "Apri                                                        273\n",
       "Liletta                                                     272\n",
       "Yaz                                                         268\n",
       "Lutera                                                      268\n",
       "TriNessa                                                    257\n",
       "Ortho Tri-Cyclen Lo                                         236\n",
       "Junel Fe 1 / 20                                             228\n",
       "Kyleena                                                     205\n",
       "Xulane                                                      204\n",
       "Minastrin 24 Fe                                             202\n",
       "Gildess Fe 1 / 20                                           200\n",
       "Orsythia                                                    185\n",
       "Seasonique                                                  172\n",
       "Ethinyl estradiol / norgestrel                              159\n",
       "Mononessa                                                   145\n",
       "Drospirenone / ethinyl estradiol / levomefolate calcium     141\n",
       "Chateal                                                     140\n",
       "Levora                                                      136\n",
       "Reclipsen                                                   135\n",
       "Generess Fe                                                 128\n",
       "Alesse                                                      123\n",
       "Blisovi 24 Fe                                               119\n",
       "Ortho Tri-Cyclen                                            116\n",
       "Yasmin                                                      114\n",
       "Tri-Previfem                                                112\n",
       "Aubra                                                       110\n",
       "Sronyx                                                      106\n",
       "Gianvi                                                      100\n",
       "Cryselle                                                     99\n",
       "Estarylla                                                    92\n",
       "Ocella                                                       90\n",
       "Camrese                                                      84\n",
       "Beyaz                                                        83\n",
       "Jolessa                                                      82\n",
       "Portia                                                       78\n",
       "Jolivette                                                    75\n",
       "Kariva                                                       73\n",
       "Ortho Micronor                                               71\n",
       "Zarah                                                        70\n",
       "Nora-Be                                                      69\n",
       "Taytulla                                                     65\n",
       "Blisovi Fe 1 / 20                                            63\n",
       "Tri-Lo-Sprintec                                              61\n",
       "LoSeasonique                                                 60\n",
       "Microgestin Fe 1.5 / 30                                      57\n",
       "Lyza                                                         55\n",
       "Safyral                                                      54\n",
       "Ethinyl estradiol / ethynodiol                               51\n",
       "Microgestin 1 / 20                                           46\n",
       "Ortho Cyclen                                                 43\n",
       "Zovia                                                        41\n",
       "Dienogest / estradiol                                        37\n",
       "Junel Fe 1.5 / 30                                            36\n",
       "Natazia                                                      35\n",
       "Viorele                                                      34\n",
       "Falmina                                                      32\n",
       "Errin                                                        32\n",
       "Quasense                                                     30\n",
       "Camila                                                       30\n",
       "Velivet                                                      28\n",
       "Tarina Fe 1 / 20                                             26\n",
       "Gildess Fe 1.5 / 30                                          26\n",
       "Seasonale                                                    24\n",
       "Ashlyna                                                      23\n",
       "Loryna                                                       21\n",
       "Necon 1 / 35                                                 20\n",
       "Desogen                                                      20\n",
       "Azurette                                                     15\n",
       "Nortrel 1 / 35                                               14\n",
       "Lessina                                                      14\n",
       "Previfem                                                     14\n",
       "Tri-Linyah                                                   14\n",
       "Ortho-Cept                                                   14\n",
       "Sharobel                                                     13\n",
       "Vienva                                                       13\n",
       "Lybrel                                                       13\n",
       "Loestrin 21 1 / 20                                           13\n",
       "Levlen                                                       11\n",
       "Mircette                                                     11\n",
       "Amethia                                                      11\n",
       "Trivora                                                      10\n",
       "Lo / Ovral                                                   10\n",
       "Cyclafem 1 / 35                                              10\n",
       "TriNessa Lo                                                   9\n",
       "Larin Fe 1 / 20                                               9\n",
       "Ortho-Novum 7 / 7 / 7                                         9\n",
       "Tri-Estarylla                                                 9\n",
       "Mibelas 24 Fe                                                 9\n",
       "Marlissa                                                      8\n",
       "Cyred                                                         8\n",
       "Femcon Fe                                                     8\n",
       "Altavera                                                      8\n",
       "Mono-Linyah                                                   8\n",
       "Junel 1 / 20                                                  8\n",
       "Depo-Provera Contraceptive                                    7\n",
       "Nikki                                                         6\n",
       "Cyclessa                                                      6\n",
       "Zovia 1 / 35                                                  6\n",
       "Lo / Ovral-28                                                 6\n",
       "Alyacen 1 / 35                                                6\n",
       "Ogestrel-28                                                   5\n",
       "Ortho-Novum 1 / 35                                            5\n",
       "Pimtrea                                                       5\n",
       "Balziva                                                       5\n",
       "Enskyce                                                       5\n",
       "Ethinyl estradiol / folic acid / levonorgestrel               5\n",
       "CamreseLo                                                     5\n",
       "Mestranol / norethindrone                                     4\n",
       "Loestrin Fe 1 / 20                                            4\n",
       "Nortrel 7 / 7 / 7                                             4\n",
       "Tri-Lo-Estarylla                                              4\n",
       "Heather                                                       4\n",
       "Junel 1.5 / 30                                                4\n",
       "Junel Fe 24                                                   4\n",
       "Ovcon 35                                                      4\n",
       "Tri-Lo-Marzia                                                 3\n",
       "Blisovi Fe 1.5 / 30                                           3\n",
       "Amethia Lo                                                    3\n",
       "Plan B                                                        3\n",
       "Gildess 1 / 20                                                3\n",
       "Provera                                                       3\n",
       "Jencycla                                                      3\n",
       "Rajani                                                        3\n",
       "Necon 1 / 50                                                  3\n",
       "Caziant                                                       2\n",
       "Necon 7 / 7 / 7                                               2\n",
       "Juleber                                                       2\n",
       "Nonoxynol 9                                                   2\n",
       "Zenchent                                                      2\n",
       "Elinest                                                       2\n",
       "Introvale                                                     2\n",
       "Vestura                                                       2\n",
       "Deblitane                                                     2\n",
       "Lomedia 24 Fe                                                 2\n",
       "Gildess 24 Fe                                                 2\n",
       "Microgestin 1.5 / 30                                          2\n",
       "Gildess 1.5 / 30                                              2\n",
       "depo-subQ provera 104                                         2\n",
       "Amethyst                                                      2\n",
       "Loestrin 21 1.5 / 30                                          1\n",
       "Cyclafem 7 / 7 / 7                                            1\n",
       "Briellyn                                                      1\n",
       "Larin Fe 1.5 / 30                                             1\n",
       "Zovia 1 / 50                                                  1\n",
       "Norlyda                                                       1\n",
       "Philith                                                       1\n",
       "Loestrin Fe 1.5 / 30                                          1\n",
       "Pirmella 1 / 35                                               1\n",
       "Dasetta 7 / 7 / 7                                             1\n",
       "Larissia                                                      1\n",
       "Dasetta 1 / 35                                                1\n",
       "Emoquette                                                     1\n",
       "Larin 24 Fe                                                   1\n",
       "Low-Ogestrel-21                                               1\n",
       "Lillow                                                        1\n",
       "Name: drugName, dtype: int64"
      ]
     },
     "execution_count": 44,
     "metadata": {},
     "output_type": "execute_result"
    }
   ],
   "source": [
    "bc['drugName'].value_counts()"
   ]
  },
  {
   "cell_type": "code",
   "execution_count": 32,
   "metadata": {},
   "outputs": [
    {
     "data": {
      "text/plain": [
       "rating    7.386881\n",
       "dtype: float64"
      ]
     },
     "execution_count": 32,
     "metadata": {},
     "output_type": "execute_result"
    }
   ],
   "source": [
    "dep[dep['drugName'] == 'Bupropion'].mean()"
   ]
  },
  {
   "cell_type": "code",
   "execution_count": 33,
   "metadata": {},
   "outputs": [
    {
     "data": {
      "text/plain": [
       "rating    7.347826\n",
       "dtype: float64"
      ]
     },
     "execution_count": 33,
     "metadata": {},
     "output_type": "execute_result"
    }
   ],
   "source": [
    "dep[dep['drugName'] == 'Wellbutrin'].mean()"
   ]
  },
  {
   "cell_type": "code",
   "execution_count": 34,
   "metadata": {},
   "outputs": [
    {
     "data": {
      "text/plain": [
       "rating    7.782609\n",
       "dtype: float64"
      ]
     },
     "execution_count": 34,
     "metadata": {},
     "output_type": "execute_result"
    }
   ],
   "source": [
    "dep[dep['drugName'] == 'Wellbutrin XL'].mean()"
   ]
  },
  {
   "cell_type": "code",
   "execution_count": 35,
   "metadata": {},
   "outputs": [
    {
     "data": {
      "text/plain": [
       "rating    6.788732\n",
       "dtype: float64"
      ]
     },
     "execution_count": 35,
     "metadata": {},
     "output_type": "execute_result"
    }
   ],
   "source": [
    "dep[dep['drugName'] == 'Wellbutrin SR'].mean()"
   ]
  },
  {
   "cell_type": "code",
   "execution_count": 36,
   "metadata": {},
   "outputs": [
    {
     "data": {
      "text/plain": [
       "rating    10.0\n",
       "dtype: float64"
      ]
     },
     "execution_count": 36,
     "metadata": {},
     "output_type": "execute_result"
    }
   ],
   "source": [
    "dep[dep['drugName'] == 'Forfivo XL'].mean()"
   ]
  },
  {
   "cell_type": "code",
   "execution_count": 37,
   "metadata": {},
   "outputs": [
    {
     "data": {
      "text/plain": [
       "rating    6.142857\n",
       "dtype: float64"
      ]
     },
     "execution_count": 37,
     "metadata": {},
     "output_type": "execute_result"
    }
   ],
   "source": [
    "dep[dep['drugName'] == 'Aplenzin'].mean()"
   ]
  },
  {
   "cell_type": "code",
   "execution_count": 38,
   "metadata": {},
   "outputs": [
    {
     "data": {
      "text/plain": [
       "rating    8.333333\n",
       "dtype: float64"
      ]
     },
     "execution_count": 38,
     "metadata": {},
     "output_type": "execute_result"
    }
   ],
   "source": [
    "dep[dep['drugName'] == 'Budeprion SR'].mean()"
   ]
  },
  {
   "cell_type": "code",
   "execution_count": null,
   "metadata": {},
   "outputs": [],
   "source": []
  },
  {
   "cell_type": "code",
   "execution_count": null,
   "metadata": {},
   "outputs": [],
   "source": []
  },
  {
   "cell_type": "code",
   "execution_count": 39,
   "metadata": {},
   "outputs": [
    {
     "data": {
      "text/plain": [
       "rating    6.928571\n",
       "dtype: float64"
      ]
     },
     "execution_count": 39,
     "metadata": {},
     "output_type": "execute_result"
    }
   ],
   "source": [
    "dep[dep['drugName'] == 'Budeprion XL'].mean()"
   ]
  },
  {
   "cell_type": "code",
   "execution_count": 40,
   "metadata": {},
   "outputs": [
    {
     "data": {
      "text/plain": [
       "rating    7.990991\n",
       "dtype: float64"
      ]
     },
     "execution_count": 40,
     "metadata": {},
     "output_type": "execute_result"
    }
   ],
   "source": [
    "anx[anx['drugName'] == 'Propranolol'].mean()"
   ]
  },
  {
   "cell_type": "code",
   "execution_count": 41,
   "metadata": {},
   "outputs": [
    {
     "data": {
      "text/html": [
       "<div>\n",
       "<style scoped>\n",
       "    .dataframe tbody tr th:only-of-type {\n",
       "        vertical-align: middle;\n",
       "    }\n",
       "\n",
       "    .dataframe tbody tr th {\n",
       "        vertical-align: top;\n",
       "    }\n",
       "\n",
       "    .dataframe thead th {\n",
       "        text-align: right;\n",
       "    }\n",
       "</style>\n",
       "<table border=\"1\" class=\"dataframe\">\n",
       "  <thead>\n",
       "    <tr style=\"text-align: right;\">\n",
       "      <th></th>\n",
       "      <th>rating</th>\n",
       "    </tr>\n",
       "    <tr>\n",
       "      <th>drugName</th>\n",
       "      <th></th>\n",
       "    </tr>\n",
       "  </thead>\n",
       "  <tbody>\n",
       "    <tr>\n",
       "      <th>Vyvanse</th>\n",
       "      <td>3.000000</td>\n",
       "    </tr>\n",
       "    <tr>\n",
       "      <th>Luvox CR</th>\n",
       "      <td>4.000000</td>\n",
       "    </tr>\n",
       "    <tr>\n",
       "      <th>Fetzima</th>\n",
       "      <td>4.666667</td>\n",
       "    </tr>\n",
       "    <tr>\n",
       "      <th>Levomilnacipran</th>\n",
       "      <td>4.784615</td>\n",
       "    </tr>\n",
       "    <tr>\n",
       "      <th>Tryptophan</th>\n",
       "      <td>5.000000</td>\n",
       "    </tr>\n",
       "    <tr>\n",
       "      <th>Pamelor</th>\n",
       "      <td>5.000000</td>\n",
       "    </tr>\n",
       "    <tr>\n",
       "      <th>Strattera</th>\n",
       "      <td>5.666667</td>\n",
       "    </tr>\n",
       "    <tr>\n",
       "      <th>Effexor</th>\n",
       "      <td>5.783784</td>\n",
       "    </tr>\n",
       "    <tr>\n",
       "      <th>Vortioxetine</th>\n",
       "      <td>5.934498</td>\n",
       "    </tr>\n",
       "    <tr>\n",
       "      <th>Tofranil</th>\n",
       "      <td>6.000000</td>\n",
       "    </tr>\n",
       "    <tr>\n",
       "      <th>Olanzapine</th>\n",
       "      <td>6.046875</td>\n",
       "    </tr>\n",
       "    <tr>\n",
       "      <th>Trintellix</th>\n",
       "      <td>6.059211</td>\n",
       "    </tr>\n",
       "    <tr>\n",
       "      <th>Zyprexa</th>\n",
       "      <td>6.111111</td>\n",
       "    </tr>\n",
       "    <tr>\n",
       "      <th>Aplenzin</th>\n",
       "      <td>6.142857</td>\n",
       "    </tr>\n",
       "    <tr>\n",
       "      <th>Oleptro</th>\n",
       "      <td>6.200000</td>\n",
       "    </tr>\n",
       "    <tr>\n",
       "      <th>Risperidone</th>\n",
       "      <td>6.318182</td>\n",
       "    </tr>\n",
       "    <tr>\n",
       "      <th>Nortriptyline</th>\n",
       "      <td>6.461538</td>\n",
       "    </tr>\n",
       "    <tr>\n",
       "      <th>Cymbalta</th>\n",
       "      <td>6.489051</td>\n",
       "    </tr>\n",
       "    <tr>\n",
       "      <th>Duloxetine</th>\n",
       "      <td>6.489703</td>\n",
       "    </tr>\n",
       "    <tr>\n",
       "      <th>Atomoxetine</th>\n",
       "      <td>6.500000</td>\n",
       "    </tr>\n",
       "    <tr>\n",
       "      <th>Venlafaxine</th>\n",
       "      <td>6.540070</td>\n",
       "    </tr>\n",
       "    <tr>\n",
       "      <th>Viibryd</th>\n",
       "      <td>6.571788</td>\n",
       "    </tr>\n",
       "    <tr>\n",
       "      <th>Vilazodone</th>\n",
       "      <td>6.572482</td>\n",
       "    </tr>\n",
       "    <tr>\n",
       "      <th>Lithium</th>\n",
       "      <td>6.578947</td>\n",
       "    </tr>\n",
       "    <tr>\n",
       "      <th>Risperdal</th>\n",
       "      <td>6.666667</td>\n",
       "    </tr>\n",
       "    <tr>\n",
       "      <th>Imipramine</th>\n",
       "      <td>6.750000</td>\n",
       "    </tr>\n",
       "    <tr>\n",
       "      <th>Wellbutrin SR</th>\n",
       "      <td>6.788732</td>\n",
       "    </tr>\n",
       "    <tr>\n",
       "      <th>Lisdexamfetamine</th>\n",
       "      <td>6.800000</td>\n",
       "    </tr>\n",
       "    <tr>\n",
       "      <th>Paxil</th>\n",
       "      <td>6.816176</td>\n",
       "    </tr>\n",
       "    <tr>\n",
       "      <th>Paroxetine</th>\n",
       "      <td>6.827957</td>\n",
       "    </tr>\n",
       "    <tr>\n",
       "      <th>Abilify</th>\n",
       "      <td>6.845361</td>\n",
       "    </tr>\n",
       "    <tr>\n",
       "      <th>Aripiprazole</th>\n",
       "      <td>6.881188</td>\n",
       "    </tr>\n",
       "    <tr>\n",
       "      <th>Budeprion XL</th>\n",
       "      <td>6.928571</td>\n",
       "    </tr>\n",
       "    <tr>\n",
       "      <th>Doxepin</th>\n",
       "      <td>6.933333</td>\n",
       "    </tr>\n",
       "    <tr>\n",
       "      <th>Fluvoxamine</th>\n",
       "      <td>7.000000</td>\n",
       "    </tr>\n",
       "    <tr>\n",
       "      <th>Nuvigil</th>\n",
       "      <td>7.000000</td>\n",
       "    </tr>\n",
       "    <tr>\n",
       "      <th>Paliperidone</th>\n",
       "      <td>7.000000</td>\n",
       "    </tr>\n",
       "    <tr>\n",
       "      <th>Ritalin</th>\n",
       "      <td>7.000000</td>\n",
       "    </tr>\n",
       "    <tr>\n",
       "      <th>Quetiapine</th>\n",
       "      <td>7.073394</td>\n",
       "    </tr>\n",
       "    <tr>\n",
       "      <th>Paxil CR</th>\n",
       "      <td>7.083333</td>\n",
       "    </tr>\n",
       "    <tr>\n",
       "      <th>Sertraline</th>\n",
       "      <td>7.140271</td>\n",
       "    </tr>\n",
       "    <tr>\n",
       "      <th>Desvenlafaxine</th>\n",
       "      <td>7.164049</td>\n",
       "    </tr>\n",
       "    <tr>\n",
       "      <th>Zoloft</th>\n",
       "      <td>7.181347</td>\n",
       "    </tr>\n",
       "    <tr>\n",
       "      <th>Pristiq</th>\n",
       "      <td>7.205776</td>\n",
       "    </tr>\n",
       "    <tr>\n",
       "      <th>Seroquel</th>\n",
       "      <td>7.230769</td>\n",
       "    </tr>\n",
       "    <tr>\n",
       "      <th>Luvox</th>\n",
       "      <td>7.250000</td>\n",
       "    </tr>\n",
       "    <tr>\n",
       "      <th>Prozac</th>\n",
       "      <td>7.258303</td>\n",
       "    </tr>\n",
       "    <tr>\n",
       "      <th>Fluoxetine</th>\n",
       "      <td>7.265985</td>\n",
       "    </tr>\n",
       "    <tr>\n",
       "      <th>Trazodone</th>\n",
       "      <td>7.270270</td>\n",
       "    </tr>\n",
       "    <tr>\n",
       "      <th>Rexulti</th>\n",
       "      <td>7.294118</td>\n",
       "    </tr>\n",
       "    <tr>\n",
       "      <th>Brexpiprazole</th>\n",
       "      <td>7.318182</td>\n",
       "    </tr>\n",
       "    <tr>\n",
       "      <th>Effexor XR</th>\n",
       "      <td>7.328042</td>\n",
       "    </tr>\n",
       "    <tr>\n",
       "      <th>Desyrel</th>\n",
       "      <td>7.333333</td>\n",
       "    </tr>\n",
       "    <tr>\n",
       "      <th>Mirtazapine</th>\n",
       "      <td>7.339286</td>\n",
       "    </tr>\n",
       "    <tr>\n",
       "      <th>Wellbutrin</th>\n",
       "      <td>7.347826</td>\n",
       "    </tr>\n",
       "    <tr>\n",
       "      <th>Celexa</th>\n",
       "      <td>7.374582</td>\n",
       "    </tr>\n",
       "    <tr>\n",
       "      <th>Bupropion</th>\n",
       "      <td>7.386881</td>\n",
       "    </tr>\n",
       "    <tr>\n",
       "      <th>Armodafinil</th>\n",
       "      <td>7.411765</td>\n",
       "    </tr>\n",
       "    <tr>\n",
       "      <th>Seroquel XR</th>\n",
       "      <td>7.441860</td>\n",
       "    </tr>\n",
       "    <tr>\n",
       "      <th>Citalopram</th>\n",
       "      <td>7.471735</td>\n",
       "    </tr>\n",
       "    <tr>\n",
       "      <th>Deplin</th>\n",
       "      <td>7.508197</td>\n",
       "    </tr>\n",
       "    <tr>\n",
       "      <th>Escitalopram</th>\n",
       "      <td>7.559223</td>\n",
       "    </tr>\n",
       "    <tr>\n",
       "      <th>Remeron</th>\n",
       "      <td>7.589474</td>\n",
       "    </tr>\n",
       "    <tr>\n",
       "      <th>Lexapro</th>\n",
       "      <td>7.620098</td>\n",
       "    </tr>\n",
       "    <tr>\n",
       "      <th>Wellbutrin XL</th>\n",
       "      <td>7.782609</td>\n",
       "    </tr>\n",
       "    <tr>\n",
       "      <th>L-methylfolate</th>\n",
       "      <td>7.887500</td>\n",
       "    </tr>\n",
       "    <tr>\n",
       "      <th>Remeron SolTab</th>\n",
       "      <td>8.000000</td>\n",
       "    </tr>\n",
       "    <tr>\n",
       "      <th>Lamotrigine</th>\n",
       "      <td>8.000000</td>\n",
       "    </tr>\n",
       "    <tr>\n",
       "      <th>Phenelzine</th>\n",
       "      <td>8.305556</td>\n",
       "    </tr>\n",
       "    <tr>\n",
       "      <th>Emsam</th>\n",
       "      <td>8.333333</td>\n",
       "    </tr>\n",
       "    <tr>\n",
       "      <th>Budeprion SR</th>\n",
       "      <td>8.333333</td>\n",
       "    </tr>\n",
       "    <tr>\n",
       "      <th>Modafinil</th>\n",
       "      <td>8.361111</td>\n",
       "    </tr>\n",
       "    <tr>\n",
       "      <th>S-adenosylmethionine</th>\n",
       "      <td>8.400000</td>\n",
       "    </tr>\n",
       "    <tr>\n",
       "      <th>Anafranil</th>\n",
       "      <td>8.400000</td>\n",
       "    </tr>\n",
       "    <tr>\n",
       "      <th>Nardil</th>\n",
       "      <td>8.424242</td>\n",
       "    </tr>\n",
       "    <tr>\n",
       "      <th>Elavil</th>\n",
       "      <td>8.437500</td>\n",
       "    </tr>\n",
       "    <tr>\n",
       "      <th>Selegiline</th>\n",
       "      <td>8.461538</td>\n",
       "    </tr>\n",
       "    <tr>\n",
       "      <th>Amitriptyline</th>\n",
       "      <td>8.490196</td>\n",
       "    </tr>\n",
       "    <tr>\n",
       "      <th>Tranylcypromine</th>\n",
       "      <td>8.518519</td>\n",
       "    </tr>\n",
       "    <tr>\n",
       "      <th>St. john's wort</th>\n",
       "      <td>8.666667</td>\n",
       "    </tr>\n",
       "    <tr>\n",
       "      <th>Sinequan</th>\n",
       "      <td>8.666667</td>\n",
       "    </tr>\n",
       "    <tr>\n",
       "      <th>Provigil</th>\n",
       "      <td>8.833333</td>\n",
       "    </tr>\n",
       "    <tr>\n",
       "      <th>Nefazodone</th>\n",
       "      <td>8.869565</td>\n",
       "    </tr>\n",
       "    <tr>\n",
       "      <th>Fluoxetine / olanzapine</th>\n",
       "      <td>8.875000</td>\n",
       "    </tr>\n",
       "    <tr>\n",
       "      <th>Parnate</th>\n",
       "      <td>8.913043</td>\n",
       "    </tr>\n",
       "    <tr>\n",
       "      <th>Symbyax</th>\n",
       "      <td>8.933333</td>\n",
       "    </tr>\n",
       "    <tr>\n",
       "      <th>Marplan</th>\n",
       "      <td>9.000000</td>\n",
       "    </tr>\n",
       "    <tr>\n",
       "      <th>Trimipramine</th>\n",
       "      <td>9.000000</td>\n",
       "    </tr>\n",
       "    <tr>\n",
       "      <th>Abilify Discmelt</th>\n",
       "      <td>9.000000</td>\n",
       "    </tr>\n",
       "    <tr>\n",
       "      <th>Protriptyline</th>\n",
       "      <td>9.000000</td>\n",
       "    </tr>\n",
       "    <tr>\n",
       "      <th>Methylphenidate</th>\n",
       "      <td>9.000000</td>\n",
       "    </tr>\n",
       "    <tr>\n",
       "      <th>Isocarboxazid</th>\n",
       "      <td>9.000000</td>\n",
       "    </tr>\n",
       "    <tr>\n",
       "      <th>Vivactil</th>\n",
       "      <td>9.000000</td>\n",
       "    </tr>\n",
       "    <tr>\n",
       "      <th>Prozac Weekly</th>\n",
       "      <td>9.000000</td>\n",
       "    </tr>\n",
       "    <tr>\n",
       "      <th>Desipramine</th>\n",
       "      <td>9.000000</td>\n",
       "    </tr>\n",
       "    <tr>\n",
       "      <th>Amitriptyline / perphenazine</th>\n",
       "      <td>9.000000</td>\n",
       "    </tr>\n",
       "    <tr>\n",
       "      <th>Alprazolam</th>\n",
       "      <td>9.146341</td>\n",
       "    </tr>\n",
       "    <tr>\n",
       "      <th>Xanax</th>\n",
       "      <td>9.171875</td>\n",
       "    </tr>\n",
       "    <tr>\n",
       "      <th>Clomipramine</th>\n",
       "      <td>9.230769</td>\n",
       "    </tr>\n",
       "    <tr>\n",
       "      <th>Tramadol</th>\n",
       "      <td>9.413333</td>\n",
       "    </tr>\n",
       "    <tr>\n",
       "      <th>Amitriptyline / chlordiazepoxide</th>\n",
       "      <td>9.500000</td>\n",
       "    </tr>\n",
       "    <tr>\n",
       "      <th>Amoxapine</th>\n",
       "      <td>9.500000</td>\n",
       "    </tr>\n",
       "    <tr>\n",
       "      <th>Limbitrol</th>\n",
       "      <td>9.500000</td>\n",
       "    </tr>\n",
       "    <tr>\n",
       "      <th>Maprotiline</th>\n",
       "      <td>9.500000</td>\n",
       "    </tr>\n",
       "    <tr>\n",
       "      <th>Methylin ER</th>\n",
       "      <td>9.500000</td>\n",
       "    </tr>\n",
       "    <tr>\n",
       "      <th>Serzone</th>\n",
       "      <td>9.666667</td>\n",
       "    </tr>\n",
       "    <tr>\n",
       "      <th>Niacin</th>\n",
       "      <td>9.750000</td>\n",
       "    </tr>\n",
       "    <tr>\n",
       "      <th>Norpramin</th>\n",
       "      <td>9.800000</td>\n",
       "    </tr>\n",
       "    <tr>\n",
       "      <th>Xanax XR</th>\n",
       "      <td>10.000000</td>\n",
       "    </tr>\n",
       "    <tr>\n",
       "      <th>Forfivo XL</th>\n",
       "      <td>10.000000</td>\n",
       "    </tr>\n",
       "    <tr>\n",
       "      <th>Invega</th>\n",
       "      <td>10.000000</td>\n",
       "    </tr>\n",
       "    <tr>\n",
       "      <th>Asendin</th>\n",
       "      <td>10.000000</td>\n",
       "    </tr>\n",
       "    <tr>\n",
       "      <th>Limbitrol DS</th>\n",
       "      <td>10.000000</td>\n",
       "    </tr>\n",
       "    <tr>\n",
       "      <th>Risperdal M-Tab</th>\n",
       "      <td>10.000000</td>\n",
       "    </tr>\n",
       "    <tr>\n",
       "      <th>Niravam</th>\n",
       "      <td>10.000000</td>\n",
       "    </tr>\n",
       "  </tbody>\n",
       "</table>\n",
       "</div>"
      ],
      "text/plain": [
       "                                     rating\n",
       "drugName                                   \n",
       "Vyvanse                            3.000000\n",
       "Luvox CR                           4.000000\n",
       "Fetzima                            4.666667\n",
       "Levomilnacipran                    4.784615\n",
       "Tryptophan                         5.000000\n",
       "Pamelor                            5.000000\n",
       "Strattera                          5.666667\n",
       "Effexor                            5.783784\n",
       "Vortioxetine                       5.934498\n",
       "Tofranil                           6.000000\n",
       "Olanzapine                         6.046875\n",
       "Trintellix                         6.059211\n",
       "Zyprexa                            6.111111\n",
       "Aplenzin                           6.142857\n",
       "Oleptro                            6.200000\n",
       "Risperidone                        6.318182\n",
       "Nortriptyline                      6.461538\n",
       "Cymbalta                           6.489051\n",
       "Duloxetine                         6.489703\n",
       "Atomoxetine                        6.500000\n",
       "Venlafaxine                        6.540070\n",
       "Viibryd                            6.571788\n",
       "Vilazodone                         6.572482\n",
       "Lithium                            6.578947\n",
       "Risperdal                          6.666667\n",
       "Imipramine                         6.750000\n",
       "Wellbutrin SR                      6.788732\n",
       "Lisdexamfetamine                   6.800000\n",
       "Paxil                              6.816176\n",
       "Paroxetine                         6.827957\n",
       "Abilify                            6.845361\n",
       "Aripiprazole                       6.881188\n",
       "Budeprion XL                       6.928571\n",
       "Doxepin                            6.933333\n",
       "Fluvoxamine                        7.000000\n",
       "Nuvigil                            7.000000\n",
       "Paliperidone                       7.000000\n",
       "Ritalin                            7.000000\n",
       "Quetiapine                         7.073394\n",
       "Paxil CR                           7.083333\n",
       "Sertraline                         7.140271\n",
       "Desvenlafaxine                     7.164049\n",
       "Zoloft                             7.181347\n",
       "Pristiq                            7.205776\n",
       "Seroquel                           7.230769\n",
       "Luvox                              7.250000\n",
       "Prozac                             7.258303\n",
       "Fluoxetine                         7.265985\n",
       "Trazodone                          7.270270\n",
       "Rexulti                            7.294118\n",
       "Brexpiprazole                      7.318182\n",
       "Effexor XR                         7.328042\n",
       "Desyrel                            7.333333\n",
       "Mirtazapine                        7.339286\n",
       "Wellbutrin                         7.347826\n",
       "Celexa                             7.374582\n",
       "Bupropion                          7.386881\n",
       "Armodafinil                        7.411765\n",
       "Seroquel XR                        7.441860\n",
       "Citalopram                         7.471735\n",
       "Deplin                             7.508197\n",
       "Escitalopram                       7.559223\n",
       "Remeron                            7.589474\n",
       "Lexapro                            7.620098\n",
       "Wellbutrin XL                      7.782609\n",
       "L-methylfolate                     7.887500\n",
       "Remeron SolTab                     8.000000\n",
       "Lamotrigine                        8.000000\n",
       "Phenelzine                         8.305556\n",
       "Emsam                              8.333333\n",
       "Budeprion SR                       8.333333\n",
       "Modafinil                          8.361111\n",
       "S-adenosylmethionine               8.400000\n",
       "Anafranil                          8.400000\n",
       "Nardil                             8.424242\n",
       "Elavil                             8.437500\n",
       "Selegiline                         8.461538\n",
       "Amitriptyline                      8.490196\n",
       "Tranylcypromine                    8.518519\n",
       "St. john's wort                    8.666667\n",
       "Sinequan                           8.666667\n",
       "Provigil                           8.833333\n",
       "Nefazodone                         8.869565\n",
       "Fluoxetine / olanzapine            8.875000\n",
       "Parnate                            8.913043\n",
       "Symbyax                            8.933333\n",
       "Marplan                            9.000000\n",
       "Trimipramine                       9.000000\n",
       "Abilify Discmelt                   9.000000\n",
       "Protriptyline                      9.000000\n",
       "Methylphenidate                    9.000000\n",
       "Isocarboxazid                      9.000000\n",
       "Vivactil                           9.000000\n",
       "Prozac Weekly                      9.000000\n",
       "Desipramine                        9.000000\n",
       "Amitriptyline / perphenazine       9.000000\n",
       "Alprazolam                         9.146341\n",
       "Xanax                              9.171875\n",
       "Clomipramine                       9.230769\n",
       "Tramadol                           9.413333\n",
       "Amitriptyline / chlordiazepoxide   9.500000\n",
       "Amoxapine                          9.500000\n",
       "Limbitrol                          9.500000\n",
       "Maprotiline                        9.500000\n",
       "Methylin ER                        9.500000\n",
       "Serzone                            9.666667\n",
       "Niacin                             9.750000\n",
       "Norpramin                          9.800000\n",
       "Xanax XR                          10.000000\n",
       "Forfivo XL                        10.000000\n",
       "Invega                            10.000000\n",
       "Asendin                           10.000000\n",
       "Limbitrol DS                      10.000000\n",
       "Risperdal M-Tab                   10.000000\n",
       "Niravam                           10.000000"
      ]
     },
     "execution_count": 41,
     "metadata": {},
     "output_type": "execute_result"
    }
   ],
   "source": [
    "dep.groupby('drugName').mean().sort_values('rating')"
   ]
  },
  {
   "cell_type": "code",
   "execution_count": null,
   "metadata": {},
   "outputs": [],
   "source": []
  }
 ],
 "metadata": {
  "kernelspec": {
   "display_name": "Python 3",
   "language": "python",
   "name": "python3"
  },
  "language_info": {
   "codemirror_mode": {
    "name": "ipython",
    "version": 3
   },
   "file_extension": ".py",
   "mimetype": "text/x-python",
   "name": "python",
   "nbconvert_exporter": "python",
   "pygments_lexer": "ipython3",
   "version": "3.8.5"
  }
 },
 "nbformat": 4,
 "nbformat_minor": 4
}
